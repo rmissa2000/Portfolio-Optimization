{
 "cells": [
  {
   "cell_type": "markdown",
   "id": "5f1ab790",
   "metadata": {},
   "source": [
    "# Porfolio Optimization using Yahoo Finance & PyPortfolioOpt\n"
   ]
  },
  {
   "cell_type": "code",
   "execution_count": 62,
   "id": "602c77af",
   "metadata": {},
   "outputs": [],
   "source": [
    "# package uploads\n",
    "import pandas as pd\n",
    "import numpy as np\n",
    "import matplotlib.pyplot as plt\n",
    "import os"
   ]
  },
  {
   "cell_type": "code",
   "execution_count": 63,
   "id": "c2d151bc",
   "metadata": {},
   "outputs": [
    {
     "name": "stdout",
     "output_type": "stream",
     "text": [
      "Requirement already satisfied: yahoo-fin in c:\\users\\ramzi\\anaconda3\\lib\\site-packages (0.8.9.1)\n",
      "Requirement already satisfied: requests-html in c:\\users\\ramzi\\anaconda3\\lib\\site-packages (from yahoo-fin) (0.10.0)\n",
      "Requirement already satisfied: requests in c:\\users\\ramzi\\anaconda3\\lib\\site-packages (from yahoo-fin) (2.26.0)\n",
      "Requirement already satisfied: pandas in c:\\users\\ramzi\\anaconda3\\lib\\site-packages (from yahoo-fin) (1.3.4)\n",
      "Requirement already satisfied: feedparser in c:\\users\\ramzi\\anaconda3\\lib\\site-packages (from yahoo-fin) (6.0.8)\n",
      "Requirement already satisfied: sgmllib3k in c:\\users\\ramzi\\anaconda3\\lib\\site-packages (from feedparser->yahoo-fin) (1.0.0)\n",
      "Requirement already satisfied: python-dateutil>=2.7.3 in c:\\users\\ramzi\\anaconda3\\lib\\site-packages (from pandas->yahoo-fin) (2.8.2)\n",
      "Requirement already satisfied: numpy>=1.17.3 in c:\\users\\ramzi\\anaconda3\\lib\\site-packages (from pandas->yahoo-fin) (1.20.3)\n",
      "Requirement already satisfied: pytz>=2017.3 in c:\\users\\ramzi\\anaconda3\\lib\\site-packages (from pandas->yahoo-fin) (2021.3)\n",
      "Requirement already satisfied: six>=1.5 in c:\\users\\ramzi\\anaconda3\\lib\\site-packages (from python-dateutil>=2.7.3->pandas->yahoo-fin) (1.16.0)\n",
      "Requirement already satisfied: idna<4,>=2.5 in c:\\users\\ramzi\\anaconda3\\lib\\site-packages (from requests->yahoo-fin) (3.2)\n",
      "Requirement already satisfied: certifi>=2017.4.17 in c:\\users\\ramzi\\anaconda3\\lib\\site-packages (from requests->yahoo-fin) (2021.10.8)\n",
      "Requirement already satisfied: charset-normalizer~=2.0.0 in c:\\users\\ramzi\\anaconda3\\lib\\site-packages (from requests->yahoo-fin) (2.0.4)\n",
      "Requirement already satisfied: urllib3<1.27,>=1.21.1 in c:\\users\\ramzi\\anaconda3\\lib\\site-packages (from requests->yahoo-fin) (1.26.7)\n",
      "Requirement already satisfied: pyquery in c:\\users\\ramzi\\anaconda3\\lib\\site-packages (from requests-html->yahoo-fin) (1.4.3)\n",
      "Requirement already satisfied: w3lib in c:\\users\\ramzi\\anaconda3\\lib\\site-packages (from requests-html->yahoo-fin) (1.22.0)\n",
      "Requirement already satisfied: bs4 in c:\\users\\ramzi\\anaconda3\\lib\\site-packages (from requests-html->yahoo-fin) (0.0.1)\n",
      "Requirement already satisfied: fake-useragent in c:\\users\\ramzi\\anaconda3\\lib\\site-packages (from requests-html->yahoo-fin) (0.1.11)\n",
      "Requirement already satisfied: pyppeteer>=0.0.14 in c:\\users\\ramzi\\anaconda3\\lib\\site-packages (from requests-html->yahoo-fin) (1.0.2)\n",
      "Requirement already satisfied: parse in c:\\users\\ramzi\\anaconda3\\lib\\site-packages (from requests-html->yahoo-fin) (1.19.0)\n",
      "Requirement already satisfied: importlib-metadata>=1.4 in c:\\users\\ramzi\\anaconda3\\lib\\site-packages (from pyppeteer>=0.0.14->requests-html->yahoo-fin) (4.8.1)\n",
      "Requirement already satisfied: appdirs<2.0.0,>=1.4.3 in c:\\users\\ramzi\\anaconda3\\lib\\site-packages (from pyppeteer>=0.0.14->requests-html->yahoo-fin) (1.4.4)\n",
      "Requirement already satisfied: websockets<11.0,>=10.0 in c:\\users\\ramzi\\anaconda3\\lib\\site-packages (from pyppeteer>=0.0.14->requests-html->yahoo-fin) (10.2)\n",
      "Requirement already satisfied: pyee<9.0.0,>=8.1.0 in c:\\users\\ramzi\\anaconda3\\lib\\site-packages (from pyppeteer>=0.0.14->requests-html->yahoo-fin) (8.2.2)\n",
      "Requirement already satisfied: tqdm<5.0.0,>=4.42.1 in c:\\users\\ramzi\\anaconda3\\lib\\site-packages (from pyppeteer>=0.0.14->requests-html->yahoo-fin) (4.62.3)\n",
      "Requirement already satisfied: zipp>=0.5 in c:\\users\\ramzi\\anaconda3\\lib\\site-packages (from importlib-metadata>=1.4->pyppeteer>=0.0.14->requests-html->yahoo-fin) (3.6.0)\n",
      "Requirement already satisfied: colorama in c:\\users\\ramzi\\anaconda3\\lib\\site-packages (from tqdm<5.0.0,>=4.42.1->pyppeteer>=0.0.14->requests-html->yahoo-fin) (0.4.4)\n",
      "Requirement already satisfied: beautifulsoup4 in c:\\users\\ramzi\\anaconda3\\lib\\site-packages (from bs4->requests-html->yahoo-fin) (4.10.0)\n",
      "Requirement already satisfied: soupsieve>1.2 in c:\\users\\ramzi\\anaconda3\\lib\\site-packages (from beautifulsoup4->bs4->requests-html->yahoo-fin) (2.2.1)\n",
      "Requirement already satisfied: cssselect>0.7.9 in c:\\users\\ramzi\\anaconda3\\lib\\site-packages (from pyquery->requests-html->yahoo-fin) (1.1.0)\n",
      "Requirement already satisfied: lxml>=2.1 in c:\\users\\ramzi\\anaconda3\\lib\\site-packages (from pyquery->requests-html->yahoo-fin) (4.6.3)\n",
      "Note: you may need to restart the kernel to use updated packages.\n"
     ]
    }
   ],
   "source": [
    "pip install yahoo-fin"
   ]
  },
  {
   "cell_type": "code",
   "execution_count": 64,
   "id": "d5c0acf1",
   "metadata": {},
   "outputs": [],
   "source": [
    "import yahoo_fin.stock_info as si"
   ]
  },
  {
   "cell_type": "code",
   "execution_count": 65,
   "id": "ddc2dcaa",
   "metadata": {},
   "outputs": [
    {
     "name": "stdout",
     "output_type": "stream",
     "text": [
      "Requirement already satisfied: yfinance in c:\\users\\ramzi\\anaconda3\\lib\\site-packages (0.1.70)\n",
      "Requirement already satisfied: requests>=2.26 in c:\\users\\ramzi\\anaconda3\\lib\\site-packages (from yfinance) (2.26.0)\n",
      "Requirement already satisfied: pandas>=0.24.0 in c:\\users\\ramzi\\anaconda3\\lib\\site-packages (from yfinance) (1.3.4)\n",
      "Requirement already satisfied: multitasking>=0.0.7 in c:\\users\\ramzi\\anaconda3\\lib\\site-packages (from yfinance) (0.0.10)\n",
      "Requirement already satisfied: lxml>=4.5.1 in c:\\users\\ramzi\\anaconda3\\lib\\site-packages (from yfinance) (4.6.3)\n",
      "Requirement already satisfied: numpy>=1.15 in c:\\users\\ramzi\\anaconda3\\lib\\site-packages (from yfinance) (1.20.3)\n",
      "Requirement already satisfied: pytz>=2017.3 in c:\\users\\ramzi\\anaconda3\\lib\\site-packages (from pandas>=0.24.0->yfinance) (2021.3)\n",
      "Requirement already satisfied: python-dateutil>=2.7.3 in c:\\users\\ramzi\\anaconda3\\lib\\site-packages (from pandas>=0.24.0->yfinance) (2.8.2)\n",
      "Requirement already satisfied: six>=1.5 in c:\\users\\ramzi\\anaconda3\\lib\\site-packages (from python-dateutil>=2.7.3->pandas>=0.24.0->yfinance) (1.16.0)\n",
      "Requirement already satisfied: urllib3<1.27,>=1.21.1 in c:\\users\\ramzi\\anaconda3\\lib\\site-packages (from requests>=2.26->yfinance) (1.26.7)\n",
      "Requirement already satisfied: charset-normalizer~=2.0.0 in c:\\users\\ramzi\\anaconda3\\lib\\site-packages (from requests>=2.26->yfinance) (2.0.4)\n",
      "Requirement already satisfied: certifi>=2017.4.17 in c:\\users\\ramzi\\anaconda3\\lib\\site-packages (from requests>=2.26->yfinance) (2021.10.8)\n",
      "Requirement already satisfied: idna<4,>=2.5 in c:\\users\\ramzi\\anaconda3\\lib\\site-packages (from requests>=2.26->yfinance) (3.2)\n",
      "Note: you may need to restart the kernel to use updated packages.\n"
     ]
    }
   ],
   "source": [
    "pip install yfinance"
   ]
  },
  {
   "cell_type": "code",
   "execution_count": 66,
   "id": "e012e515",
   "metadata": {},
   "outputs": [],
   "source": [
    "import yfinance as yf"
   ]
  },
  {
   "cell_type": "code",
   "execution_count": 67,
   "id": "1e405fac",
   "metadata": {},
   "outputs": [
    {
     "name": "stdout",
     "output_type": "stream",
     "text": [
      "Requirement already satisfied: pandas_datareader in c:\\users\\ramzi\\anaconda3\\lib\\site-packages (0.10.0)\n",
      "Requirement already satisfied: pandas>=0.23 in c:\\users\\ramzi\\anaconda3\\lib\\site-packages (from pandas_datareader) (1.3.4)\n",
      "Requirement already satisfied: lxml in c:\\users\\ramzi\\anaconda3\\lib\\site-packages (from pandas_datareader) (4.6.3)\n",
      "Requirement already satisfied: requests>=2.19.0 in c:\\users\\ramzi\\anaconda3\\lib\\site-packages (from pandas_datareader) (2.26.0)\n",
      "Requirement already satisfied: numpy>=1.17.3 in c:\\users\\ramzi\\anaconda3\\lib\\site-packages (from pandas>=0.23->pandas_datareader) (1.20.3)\n",
      "Requirement already satisfied: python-dateutil>=2.7.3 in c:\\users\\ramzi\\anaconda3\\lib\\site-packages (from pandas>=0.23->pandas_datareader) (2.8.2)\n",
      "Requirement already satisfied: pytz>=2017.3 in c:\\users\\ramzi\\anaconda3\\lib\\site-packages (from pandas>=0.23->pandas_datareader) (2021.3)\n",
      "Requirement already satisfied: six>=1.5 in c:\\users\\ramzi\\anaconda3\\lib\\site-packages (from python-dateutil>=2.7.3->pandas>=0.23->pandas_datareader) (1.16.0)\n",
      "Requirement already satisfied: certifi>=2017.4.17 in c:\\users\\ramzi\\anaconda3\\lib\\site-packages (from requests>=2.19.0->pandas_datareader) (2021.10.8)\n",
      "Requirement already satisfied: charset-normalizer~=2.0.0 in c:\\users\\ramzi\\anaconda3\\lib\\site-packages (from requests>=2.19.0->pandas_datareader) (2.0.4)\n",
      "Requirement already satisfied: urllib3<1.27,>=1.21.1 in c:\\users\\ramzi\\anaconda3\\lib\\site-packages (from requests>=2.19.0->pandas_datareader) (1.26.7)\n",
      "Requirement already satisfied: idna<4,>=2.5 in c:\\users\\ramzi\\anaconda3\\lib\\site-packages (from requests>=2.19.0->pandas_datareader) (3.2)\n",
      "Note: you may need to restart the kernel to use updated packages.\n"
     ]
    }
   ],
   "source": [
    "pip install pandas_datareader"
   ]
  },
  {
   "cell_type": "code",
   "execution_count": 68,
   "id": "2699753b",
   "metadata": {},
   "outputs": [],
   "source": [
    "import pandas_datareader as pdr\n",
    "import datetime as dt"
   ]
  },
  {
   "cell_type": "code",
   "execution_count": 69,
   "id": "70c56dfd",
   "metadata": {},
   "outputs": [
    {
     "name": "stdout",
     "output_type": "stream",
     "text": [
      "Requirement already satisfied: PyPortfolioOpt in c:\\users\\ramzi\\anaconda3\\lib\\site-packages (1.5.1)\n",
      "Requirement already satisfied: scipy<2.0,>=1.3 in c:\\users\\ramzi\\anaconda3\\lib\\site-packages (from PyPortfolioOpt) (1.7.1)\n",
      "Requirement already satisfied: cvxpy<2.0.0,>=1.1.10 in c:\\users\\ramzi\\anaconda3\\lib\\site-packages (from PyPortfolioOpt) (1.1.18)\n",
      "Requirement already satisfied: pandas>=0.19 in c:\\users\\ramzi\\anaconda3\\lib\\site-packages (from PyPortfolioOpt) (1.3.4)\n",
      "Requirement already satisfied: numpy<2.0,>=1.12 in c:\\users\\ramzi\\anaconda3\\lib\\site-packages (from PyPortfolioOpt) (1.20.3)\n",
      "Requirement already satisfied: osqp>=0.4.1 in c:\\users\\ramzi\\anaconda3\\lib\\site-packages (from cvxpy<2.0.0,>=1.1.10->PyPortfolioOpt) (0.6.2.post5)\n",
      "Requirement already satisfied: ecos>=2 in c:\\users\\ramzi\\anaconda3\\lib\\site-packages (from cvxpy<2.0.0,>=1.1.10->PyPortfolioOpt) (2.0.10)\n",
      "Requirement already satisfied: scs>=1.1.6 in c:\\users\\ramzi\\anaconda3\\lib\\site-packages (from cvxpy<2.0.0,>=1.1.10->PyPortfolioOpt) (3.2.0)\n",
      "Requirement already satisfied: qdldl in c:\\users\\ramzi\\anaconda3\\lib\\site-packages (from osqp>=0.4.1->cvxpy<2.0.0,>=1.1.10->PyPortfolioOpt) (0.1.5.post0)\n",
      "Requirement already satisfied: python-dateutil>=2.7.3 in c:\\users\\ramzi\\anaconda3\\lib\\site-packages (from pandas>=0.19->PyPortfolioOpt) (2.8.2)\n",
      "Requirement already satisfied: pytz>=2017.3 in c:\\users\\ramzi\\anaconda3\\lib\\site-packages (from pandas>=0.19->PyPortfolioOpt) (2021.3)\n",
      "Requirement already satisfied: six>=1.5 in c:\\users\\ramzi\\anaconda3\\lib\\site-packages (from python-dateutil>=2.7.3->pandas>=0.19->PyPortfolioOpt) (1.16.0)\n",
      "Note: you may need to restart the kernel to use updated packages.\n"
     ]
    }
   ],
   "source": [
    "pip install PyPortfolioOpt"
   ]
  },
  {
   "cell_type": "markdown",
   "id": "e248309d",
   "metadata": {},
   "source": [
    "## Ten companies in different sectors to depict diversity"
   ]
  },
  {
   "cell_type": "code",
   "execution_count": 70,
   "id": "f8800c3b",
   "metadata": {},
   "outputs": [],
   "source": [
    "# combine stocks function\n",
    "from functools import reduce\n",
    "\n",
    "def combine_stocks(tickers):\n",
    "    data_frames = []\n",
    "    for i in tickers:\n",
    "        data_frames.append(get_stock(i))\n",
    "        \n",
    "    df_merged = reduce(lambda left, right: pd.merge(left, right, on = ['Date'], how = 'outer'), data_frames)\n",
    "    print(df_merged.head())\n",
    "    return df_merged"
   ]
  },
  {
   "cell_type": "code",
   "execution_count": 71,
   "id": "0fb176cf",
   "metadata": {},
   "outputs": [],
   "source": [
    "# get stock function \n",
    "def get_stock(ticker):\n",
    "    data = pdr.DataReader(f\"{ticker}\", \"yahoo\", start, end)\n",
    "    data[f'{ticker}'] = data[\"Adj Close\"]\n",
    "    data = data[[f'{ticker}']]\n",
    "    print(data.head())\n",
    "    return data"
   ]
  },
  {
   "cell_type": "code",
   "execution_count": 72,
   "id": "3ba1fecd",
   "metadata": {},
   "outputs": [],
   "source": [
    "# set start & end periods\n",
    "start = dt.datetime(2000,1,1)\n",
    "end = dt.datetime.now()"
   ]
  },
  {
   "cell_type": "code",
   "execution_count": 73,
   "id": "b30a96be",
   "metadata": {},
   "outputs": [
    {
     "name": "stdout",
     "output_type": "stream",
     "text": [
      "                  MA\n",
      "Date                \n",
      "2006-05-25  4.273607\n",
      "2006-05-26  4.174203\n",
      "2006-05-30  4.087801\n",
      "2006-05-31  4.175130\n",
      "2006-06-01  4.413893\n",
      "                  UL\n",
      "Date                \n",
      "2000-01-03  7.892840\n",
      "2000-01-04  7.777974\n",
      "2000-01-05  8.106158\n",
      "2000-01-06  8.270247\n",
      "2000-01-07  8.729711\n",
      "                MNST\n",
      "Date                \n",
      "2000-01-03  0.089844\n",
      "2000-01-04  0.085938\n",
      "2000-01-05  0.085938\n",
      "2000-01-06  0.088542\n",
      "2000-01-07  0.086589\n",
      "                 MSFT\n",
      "Date                 \n",
      "2000-01-03  36.718285\n",
      "2000-01-04  35.477951\n",
      "2000-01-05  35.852016\n",
      "2000-01-06  34.651043\n",
      "2000-01-07  35.103889\n",
      "                 ETSY\n",
      "Date                 \n",
      "2015-04-16  30.000000\n",
      "2015-04-17  27.580000\n",
      "2015-04-20  24.900000\n",
      "2015-04-21  25.750000\n",
      "2015-04-22  25.120001\n",
      "                 UNP\n",
      "Date                \n",
      "2000-01-03  7.065440\n",
      "2000-01-04  7.055190\n",
      "2000-01-05  7.055190\n",
      "2000-01-06  7.485885\n",
      "2000-01-07  7.434612\n",
      "            BRK\n",
      "Date           \n",
      "2000-01-03  6.1\n",
      "2000-01-04  6.8\n",
      "2000-01-05  6.9\n",
      "2000-01-06  6.9\n",
      "2000-01-07  7.0\n",
      "                 COST\n",
      "Date                 \n",
      "2000-01-03  31.135578\n",
      "2000-01-04  29.430120\n",
      "2000-01-05  29.933018\n",
      "2000-01-06  30.534300\n",
      "2000-01-07  32.556797\n",
      "                  LMT\n",
      "Date                 \n",
      "2000-01-03  11.576324\n",
      "2000-01-04  11.969344\n",
      "2000-01-05  12.040799\n",
      "2000-01-06  12.219455\n",
      "2000-01-07  12.255179\n",
      "                 SPGI\n",
      "Date                 \n",
      "2000-01-03  19.269005\n",
      "2000-01-04  18.382847\n",
      "2000-01-05  18.135544\n",
      "2000-01-06  17.640928\n",
      "2000-01-07  17.805801\n",
      "                  MA         UL      MNST       MSFT  ETSY        UNP  \\\n",
      "Date                                                                    \n",
      "2006-05-25  4.273607  12.975266  7.580000  17.197424   NaN  16.834862   \n",
      "2006-05-26  4.174203  13.247764  7.632500  17.182940   NaN  16.944576   \n",
      "2006-05-30  4.087801  12.975266  7.471250  16.770029   NaN  16.611759   \n",
      "2006-05-31  4.175130  13.056436  7.702917  16.407818   NaN  16.970182   \n",
      "2006-06-01  4.413893  13.021650  7.656667  16.530970   NaN  17.054306   \n",
      "\n",
      "                BRK       COST        LMT       SPGI  \n",
      "Date                                                  \n",
      "2006-05-25  9.27684  38.892891  45.344852  38.151474  \n",
      "2006-05-26  9.58029  38.914345  45.126469  38.224491  \n",
      "2006-05-30  9.97044  38.292355  45.496113  37.428604  \n",
      "2006-05-31  9.79704  37.841934  45.414680  37.676857  \n",
      "2006-06-01  9.75369  38.771351  45.878273  37.764469  \n"
     ]
    }
   ],
   "source": [
    "# create portfolio\n",
    "stocks = [\"MA\", \"UL\", \"MNST\", \"MSFT\", \"ETSY\", \"UNP\", \"BRK\", \"COST\", \"LMT\", \"SPGI\"]\n",
    "portfolio = combine_stocks(stocks)"
   ]
  },
  {
   "cell_type": "code",
   "execution_count": 74,
   "id": "0fe29f50",
   "metadata": {},
   "outputs": [],
   "source": [
    "# export portfolio to .csv\n",
    "portfolio.to_csv(r'C:\\Users\\Ramzi\\OneDrive\\MAC_BACKUP\\Spring 2022\\Financial Analytics\\Jupyter Financial\\Fard\\HWportfolio.csv')"
   ]
  },
  {
   "cell_type": "code",
   "execution_count": 75,
   "id": "6d84f0ca",
   "metadata": {},
   "outputs": [],
   "source": [
    "# read back HWportfolio.csv\n",
    "HWportfolio = pd.read_csv('HWportfolio.csv')"
   ]
  },
  {
   "cell_type": "code",
   "execution_count": 76,
   "id": "989ffd08",
   "metadata": {},
   "outputs": [
    {
     "data": {
      "text/html": [
       "<div>\n",
       "<style scoped>\n",
       "    .dataframe tbody tr th:only-of-type {\n",
       "        vertical-align: middle;\n",
       "    }\n",
       "\n",
       "    .dataframe tbody tr th {\n",
       "        vertical-align: top;\n",
       "    }\n",
       "\n",
       "    .dataframe thead th {\n",
       "        text-align: right;\n",
       "    }\n",
       "</style>\n",
       "<table border=\"1\" class=\"dataframe\">\n",
       "  <thead>\n",
       "    <tr style=\"text-align: right;\">\n",
       "      <th></th>\n",
       "      <th>Date</th>\n",
       "      <th>MA</th>\n",
       "      <th>UL</th>\n",
       "      <th>MNST</th>\n",
       "      <th>MSFT</th>\n",
       "      <th>ETSY</th>\n",
       "      <th>UNP</th>\n",
       "      <th>BRK</th>\n",
       "      <th>COST</th>\n",
       "      <th>LMT</th>\n",
       "      <th>SPGI</th>\n",
       "    </tr>\n",
       "  </thead>\n",
       "  <tbody>\n",
       "    <tr>\n",
       "      <th>0</th>\n",
       "      <td>2006-05-25</td>\n",
       "      <td>4.273607</td>\n",
       "      <td>12.975266</td>\n",
       "      <td>7.580000</td>\n",
       "      <td>17.197424</td>\n",
       "      <td>NaN</td>\n",
       "      <td>16.834862</td>\n",
       "      <td>9.27684</td>\n",
       "      <td>38.892891</td>\n",
       "      <td>45.344852</td>\n",
       "      <td>38.151474</td>\n",
       "    </tr>\n",
       "    <tr>\n",
       "      <th>1</th>\n",
       "      <td>2006-05-26</td>\n",
       "      <td>4.174203</td>\n",
       "      <td>13.247764</td>\n",
       "      <td>7.632500</td>\n",
       "      <td>17.182940</td>\n",
       "      <td>NaN</td>\n",
       "      <td>16.944576</td>\n",
       "      <td>9.58029</td>\n",
       "      <td>38.914345</td>\n",
       "      <td>45.126469</td>\n",
       "      <td>38.224491</td>\n",
       "    </tr>\n",
       "    <tr>\n",
       "      <th>2</th>\n",
       "      <td>2006-05-30</td>\n",
       "      <td>4.087801</td>\n",
       "      <td>12.975266</td>\n",
       "      <td>7.471250</td>\n",
       "      <td>16.770029</td>\n",
       "      <td>NaN</td>\n",
       "      <td>16.611759</td>\n",
       "      <td>9.97044</td>\n",
       "      <td>38.292355</td>\n",
       "      <td>45.496113</td>\n",
       "      <td>37.428604</td>\n",
       "    </tr>\n",
       "    <tr>\n",
       "      <th>3</th>\n",
       "      <td>2006-05-31</td>\n",
       "      <td>4.175130</td>\n",
       "      <td>13.056436</td>\n",
       "      <td>7.702917</td>\n",
       "      <td>16.407818</td>\n",
       "      <td>NaN</td>\n",
       "      <td>16.970182</td>\n",
       "      <td>9.79704</td>\n",
       "      <td>37.841934</td>\n",
       "      <td>45.414680</td>\n",
       "      <td>37.676857</td>\n",
       "    </tr>\n",
       "    <tr>\n",
       "      <th>4</th>\n",
       "      <td>2006-06-01</td>\n",
       "      <td>4.413893</td>\n",
       "      <td>13.021650</td>\n",
       "      <td>7.656667</td>\n",
       "      <td>16.530970</td>\n",
       "      <td>NaN</td>\n",
       "      <td>17.054306</td>\n",
       "      <td>9.75369</td>\n",
       "      <td>38.771351</td>\n",
       "      <td>45.878273</td>\n",
       "      <td>37.764469</td>\n",
       "    </tr>\n",
       "    <tr>\n",
       "      <th>...</th>\n",
       "      <td>...</td>\n",
       "      <td>...</td>\n",
       "      <td>...</td>\n",
       "      <td>...</td>\n",
       "      <td>...</td>\n",
       "      <td>...</td>\n",
       "      <td>...</td>\n",
       "      <td>...</td>\n",
       "      <td>...</td>\n",
       "      <td>...</td>\n",
       "      <td>...</td>\n",
       "    </tr>\n",
       "    <tr>\n",
       "      <th>5575</th>\n",
       "      <td>2006-05-18</td>\n",
       "      <td>NaN</td>\n",
       "      <td>13.006184</td>\n",
       "      <td>7.366667</td>\n",
       "      <td>16.538219</td>\n",
       "      <td>NaN</td>\n",
       "      <td>16.729136</td>\n",
       "      <td>10.40390</td>\n",
       "      <td>38.228001</td>\n",
       "      <td>45.581932</td>\n",
       "      <td>38.000938</td>\n",
       "    </tr>\n",
       "    <tr>\n",
       "      <th>5576</th>\n",
       "      <td>2006-05-19</td>\n",
       "      <td>NaN</td>\n",
       "      <td>12.887016</td>\n",
       "      <td>7.645833</td>\n",
       "      <td>16.342623</td>\n",
       "      <td>NaN</td>\n",
       "      <td>16.714560</td>\n",
       "      <td>10.23050</td>\n",
       "      <td>38.749912</td>\n",
       "      <td>46.374290</td>\n",
       "      <td>38.000938</td>\n",
       "    </tr>\n",
       "    <tr>\n",
       "      <th>5577</th>\n",
       "      <td>2006-05-22</td>\n",
       "      <td>NaN</td>\n",
       "      <td>12.944992</td>\n",
       "      <td>7.430833</td>\n",
       "      <td>16.574444</td>\n",
       "      <td>NaN</td>\n",
       "      <td>16.816633</td>\n",
       "      <td>9.53694</td>\n",
       "      <td>38.685566</td>\n",
       "      <td>46.180870</td>\n",
       "      <td>37.644428</td>\n",
       "    </tr>\n",
       "    <tr>\n",
       "      <th>5578</th>\n",
       "      <td>2006-05-23</td>\n",
       "      <td>NaN</td>\n",
       "      <td>13.077051</td>\n",
       "      <td>7.391667</td>\n",
       "      <td>16.509243</td>\n",
       "      <td>NaN</td>\n",
       "      <td>16.758307</td>\n",
       "      <td>9.71034</td>\n",
       "      <td>38.349564</td>\n",
       "      <td>45.382286</td>\n",
       "      <td>37.149673</td>\n",
       "    </tr>\n",
       "    <tr>\n",
       "      <th>5579</th>\n",
       "      <td>2006-05-24</td>\n",
       "      <td>NaN</td>\n",
       "      <td>12.906343</td>\n",
       "      <td>7.082083</td>\n",
       "      <td>17.023567</td>\n",
       "      <td>NaN</td>\n",
       "      <td>16.641657</td>\n",
       "      <td>9.14679</td>\n",
       "      <td>38.471088</td>\n",
       "      <td>45.051620</td>\n",
       "      <td>38.275597</td>\n",
       "    </tr>\n",
       "  </tbody>\n",
       "</table>\n",
       "<p>5580 rows × 11 columns</p>\n",
       "</div>"
      ],
      "text/plain": [
       "            Date        MA         UL      MNST       MSFT  ETSY        UNP  \\\n",
       "0     2006-05-25  4.273607  12.975266  7.580000  17.197424   NaN  16.834862   \n",
       "1     2006-05-26  4.174203  13.247764  7.632500  17.182940   NaN  16.944576   \n",
       "2     2006-05-30  4.087801  12.975266  7.471250  16.770029   NaN  16.611759   \n",
       "3     2006-05-31  4.175130  13.056436  7.702917  16.407818   NaN  16.970182   \n",
       "4     2006-06-01  4.413893  13.021650  7.656667  16.530970   NaN  17.054306   \n",
       "...          ...       ...        ...       ...        ...   ...        ...   \n",
       "5575  2006-05-18       NaN  13.006184  7.366667  16.538219   NaN  16.729136   \n",
       "5576  2006-05-19       NaN  12.887016  7.645833  16.342623   NaN  16.714560   \n",
       "5577  2006-05-22       NaN  12.944992  7.430833  16.574444   NaN  16.816633   \n",
       "5578  2006-05-23       NaN  13.077051  7.391667  16.509243   NaN  16.758307   \n",
       "5579  2006-05-24       NaN  12.906343  7.082083  17.023567   NaN  16.641657   \n",
       "\n",
       "           BRK       COST        LMT       SPGI  \n",
       "0      9.27684  38.892891  45.344852  38.151474  \n",
       "1      9.58029  38.914345  45.126469  38.224491  \n",
       "2      9.97044  38.292355  45.496113  37.428604  \n",
       "3      9.79704  37.841934  45.414680  37.676857  \n",
       "4      9.75369  38.771351  45.878273  37.764469  \n",
       "...        ...        ...        ...        ...  \n",
       "5575  10.40390  38.228001  45.581932  38.000938  \n",
       "5576  10.23050  38.749912  46.374290  38.000938  \n",
       "5577   9.53694  38.685566  46.180870  37.644428  \n",
       "5578   9.71034  38.349564  45.382286  37.149673  \n",
       "5579   9.14679  38.471088  45.051620  38.275597  \n",
       "\n",
       "[5580 rows x 11 columns]"
      ]
     },
     "execution_count": 76,
     "metadata": {},
     "output_type": "execute_result"
    }
   ],
   "source": [
    "# view dataframe\n",
    "HWportfolio"
   ]
  },
  {
   "cell_type": "code",
   "execution_count": 77,
   "id": "9656bee8",
   "metadata": {},
   "outputs": [],
   "source": [
    "# define mu & S\n",
    "from pypfopt.expected_returns import mean_historical_return\n",
    "from pypfopt.risk_models import CovarianceShrinkage\n",
    "\n",
    "mu = mean_historical_return(portfolio)\n",
    "S = CovarianceShrinkage(portfolio).ledoit_wolf()"
   ]
  },
  {
   "cell_type": "code",
   "execution_count": 78,
   "id": "ec596eb2",
   "metadata": {},
   "outputs": [],
   "source": [
    "# import and setup effcient frontier\n",
    "from pypfopt.efficient_frontier import EfficientFrontier\n",
    "\n",
    "ef = EfficientFrontier(mu, S)\n",
    "weights = ef.max_sharpe()"
   ]
  },
  {
   "cell_type": "code",
   "execution_count": 79,
   "id": "35551de0",
   "metadata": {},
   "outputs": [
    {
     "name": "stdout",
     "output_type": "stream",
     "text": [
      "{'MA': 0.65561, 'UL': 0.0, 'MNST': 0.0, 'MSFT': 0.0, 'ETSY': 0.34439, 'UNP': 0.0, 'BRK': 0.0, 'COST': 0.0, 'LMT': 0.0, 'SPGI': 0.0}\n"
     ]
    }
   ],
   "source": [
    "# weighted positions of stocks in portfolio\n",
    "cleaned_weights = ef.clean_weights()\n",
    "print(dict(cleaned_weights))"
   ]
  },
  {
   "cell_type": "code",
   "execution_count": 80,
   "id": "c750087e",
   "metadata": {},
   "outputs": [
    {
     "name": "stdout",
     "output_type": "stream",
     "text": [
      "Expected annual return: 18.3%\n",
      "Annual volatility: 165.4%\n",
      "Sharpe Ratio: 0.10\n"
     ]
    },
    {
     "data": {
      "text/plain": [
       "(0.18331577741899424, 1.6535427591077787, 0.09876719336070659)"
      ]
     },
     "execution_count": 80,
     "metadata": {},
     "output_type": "execute_result"
    }
   ],
   "source": [
    "# performance of the porfolio given its efficient weights\n",
    "ef.portfolio_performance(verbose=True)"
   ]
  },
  {
   "cell_type": "code",
   "execution_count": 81,
   "id": "c90132a3",
   "metadata": {},
   "outputs": [
    {
     "name": "stdout",
     "output_type": "stream",
     "text": [
      "Discrete Allocation:  {'MA': 20, 'ETSY': 24}\n",
      "Funds remaining : $283.16\n"
     ]
    }
   ],
   "source": [
    "# given weights, capital of $10,000, how many shares of each stock we should purchase at the current ask, and how much capital remaining on hand. \n",
    "from pypfopt.discrete_allocation import DiscreteAllocation , get_latest_prices\n",
    "\n",
    "latest_prices = get_latest_prices(portfolio)\n",
    "\n",
    "da = DiscreteAllocation(weights, latest_prices, total_portfolio_value = 10000)\n",
    "\n",
    "allocation, leftover = da.greedy_portfolio()\n",
    "\n",
    "print(\"Discrete Allocation: \", allocation)\n",
    "print(\"Funds remaining : ${:.2f}\".format(leftover))"
   ]
  },
  {
   "cell_type": "markdown",
   "id": "efa01864",
   "metadata": {},
   "source": [
    "## Ten companies in the same industry (all tech) to disprove diversity"
   ]
  },
  {
   "cell_type": "code",
   "execution_count": 82,
   "id": "3e060565",
   "metadata": {
    "scrolled": true
   },
   "outputs": [
    {
     "name": "stdout",
     "output_type": "stream",
     "text": [
      "                   FB\n",
      "Date                 \n",
      "2012-05-18  38.230000\n",
      "2012-05-21  34.029999\n",
      "2012-05-22  31.000000\n",
      "2012-05-23  32.000000\n",
      "2012-05-24  33.029999\n",
      "                 GOOG\n",
      "Date                 \n",
      "2004-08-19  49.982655\n",
      "2004-08-20  53.952770\n",
      "2004-08-23  54.495735\n",
      "2004-08-24  52.239197\n",
      "2004-08-25  52.802086\n",
      "                 PYPL\n",
      "Date                 \n",
      "2015-07-06  36.709999\n",
      "2015-07-07  36.619999\n",
      "2015-07-08  34.700001\n",
      "2015-07-09  34.500000\n",
      "2015-07-10  34.689999\n",
      "                 MSFT\n",
      "Date                 \n",
      "2000-01-03  36.718285\n",
      "2000-01-04  35.477936\n",
      "2000-01-05  35.852016\n",
      "2000-01-06  34.651039\n",
      "2000-01-07  35.103874\n",
      "                 INTU\n",
      "Date                 \n",
      "2000-01-03  27.254925\n",
      "2000-01-04  27.537647\n",
      "2000-01-05  35.482300\n",
      "2000-01-06  31.665470\n",
      "2000-01-07  33.277012\n",
      "              ANET\n",
      "Date              \n",
      "2014-06-06  13.750\n",
      "2014-06-09  13.800\n",
      "2014-06-10  15.000\n",
      "2014-06-11  15.875\n",
      "2014-06-12  16.500\n",
      "                NVDA\n",
      "Date                \n",
      "2000-01-03  0.895731\n",
      "2000-01-04  0.871814\n",
      "2000-01-05  0.843112\n",
      "2000-01-06  0.788101\n",
      "2000-01-07  0.801255\n",
      "                 DOCU\n",
      "Date                 \n",
      "2018-04-27  39.730000\n",
      "2018-04-30  38.630001\n",
      "2018-05-01  39.450001\n",
      "2018-05-02  39.320000\n",
      "2018-05-03  41.959999\n",
      "                 ADBE\n",
      "Date                 \n",
      "2000-01-03  16.274672\n",
      "2000-01-04  14.909399\n",
      "2000-01-05  15.204174\n",
      "2000-01-06  15.328289\n",
      "2000-01-07  16.072987\n",
      "                AAPL\n",
      "Date                \n",
      "2000-01-03  0.855796\n",
      "2000-01-04  0.783644\n",
      "2000-01-05  0.795111\n",
      "2000-01-06  0.726304\n",
      "2000-01-07  0.760708\n",
      "                   FB        GOOG  PYPL       MSFT       INTU  ANET      NVDA  \\\n",
      "Date                                                                            \n",
      "2012-05-18  38.230000  299.078979   NaN  23.954281  49.742241   NaN  2.773731   \n",
      "2012-05-21  34.029999  305.908386   NaN  24.347101  50.417526   NaN  2.821950   \n",
      "2012-05-22  31.000000  299.278229   NaN  24.355293  51.092804   NaN  2.787507   \n",
      "2012-05-23  32.000000  303.592072   NaN  23.823343  51.530819   NaN  2.856391   \n",
      "2012-05-24  33.029999  300.702881   NaN  23.790600  51.457806   NaN  2.780619   \n",
      "\n",
      "            DOCU       ADBE       AAPL  \n",
      "Date                                    \n",
      "2012-05-18   NaN  31.309999  16.219666  \n",
      "2012-05-21   NaN  32.009998  17.164627  \n",
      "2012-05-22   NaN  32.009998  17.032822  \n",
      "2012-05-23   NaN  32.180000  17.448421  \n",
      "2012-05-24   NaN  31.540001  17.288168  \n"
     ]
    }
   ],
   "source": [
    "# create non-diversifed portfolio\n",
    "stocks = [\"FB\", \"GOOG\", \"PYPL\", \"MSFT\", \"INTU\", \"ANET\", \"NVDA\", \"DOCU\", \"ADBE\", \"AAPL\"]\n",
    "portfolio = combine_stocks(stocks)"
   ]
  },
  {
   "cell_type": "code",
   "execution_count": 83,
   "id": "b842f221",
   "metadata": {},
   "outputs": [],
   "source": [
    "# export portfolio to .csv\n",
    "portfolio.to_csv(r'C:\\Users\\Ramzi\\OneDrive\\MAC_BACKUP\\Spring 2022\\Financial Analytics\\Jupyter Financial\\Fard\\HWportfolio1.csv')"
   ]
  },
  {
   "cell_type": "code",
   "execution_count": 84,
   "id": "78826bf4",
   "metadata": {},
   "outputs": [],
   "source": [
    "# read back HWportfolio.csv\n",
    "HWportfolio1 = pd.read_csv('HWportfolio1.csv')"
   ]
  },
  {
   "cell_type": "code",
   "execution_count": 92,
   "id": "561a11b9",
   "metadata": {},
   "outputs": [
    {
     "data": {
      "text/html": [
       "<div>\n",
       "<style scoped>\n",
       "    .dataframe tbody tr th:only-of-type {\n",
       "        vertical-align: middle;\n",
       "    }\n",
       "\n",
       "    .dataframe tbody tr th {\n",
       "        vertical-align: top;\n",
       "    }\n",
       "\n",
       "    .dataframe thead th {\n",
       "        text-align: right;\n",
       "    }\n",
       "</style>\n",
       "<table border=\"1\" class=\"dataframe\">\n",
       "  <thead>\n",
       "    <tr style=\"text-align: right;\">\n",
       "      <th></th>\n",
       "      <th>Date</th>\n",
       "      <th>FB</th>\n",
       "      <th>GOOG</th>\n",
       "      <th>PYPL</th>\n",
       "      <th>MSFT</th>\n",
       "      <th>INTU</th>\n",
       "      <th>ANET</th>\n",
       "      <th>NVDA</th>\n",
       "      <th>DOCU</th>\n",
       "      <th>ADBE</th>\n",
       "      <th>AAPL</th>\n",
       "    </tr>\n",
       "  </thead>\n",
       "  <tbody>\n",
       "    <tr>\n",
       "      <th>0</th>\n",
       "      <td>2012-05-18</td>\n",
       "      <td>38.230000</td>\n",
       "      <td>299.078979</td>\n",
       "      <td>NaN</td>\n",
       "      <td>23.954281</td>\n",
       "      <td>49.742241</td>\n",
       "      <td>NaN</td>\n",
       "      <td>2.773731</td>\n",
       "      <td>NaN</td>\n",
       "      <td>31.309999</td>\n",
       "      <td>16.219666</td>\n",
       "    </tr>\n",
       "    <tr>\n",
       "      <th>1</th>\n",
       "      <td>2012-05-21</td>\n",
       "      <td>34.029999</td>\n",
       "      <td>305.908386</td>\n",
       "      <td>NaN</td>\n",
       "      <td>24.347101</td>\n",
       "      <td>50.417526</td>\n",
       "      <td>NaN</td>\n",
       "      <td>2.821950</td>\n",
       "      <td>NaN</td>\n",
       "      <td>32.009998</td>\n",
       "      <td>17.164627</td>\n",
       "    </tr>\n",
       "    <tr>\n",
       "      <th>2</th>\n",
       "      <td>2012-05-22</td>\n",
       "      <td>31.000000</td>\n",
       "      <td>299.278229</td>\n",
       "      <td>NaN</td>\n",
       "      <td>24.355293</td>\n",
       "      <td>51.092804</td>\n",
       "      <td>NaN</td>\n",
       "      <td>2.787507</td>\n",
       "      <td>NaN</td>\n",
       "      <td>32.009998</td>\n",
       "      <td>17.032822</td>\n",
       "    </tr>\n",
       "    <tr>\n",
       "      <th>3</th>\n",
       "      <td>2012-05-23</td>\n",
       "      <td>32.000000</td>\n",
       "      <td>303.592072</td>\n",
       "      <td>NaN</td>\n",
       "      <td>23.823343</td>\n",
       "      <td>51.530819</td>\n",
       "      <td>NaN</td>\n",
       "      <td>2.856391</td>\n",
       "      <td>NaN</td>\n",
       "      <td>32.180000</td>\n",
       "      <td>17.448421</td>\n",
       "    </tr>\n",
       "    <tr>\n",
       "      <th>4</th>\n",
       "      <td>2012-05-24</td>\n",
       "      <td>33.029999</td>\n",
       "      <td>300.702881</td>\n",
       "      <td>NaN</td>\n",
       "      <td>23.790600</td>\n",
       "      <td>51.457806</td>\n",
       "      <td>NaN</td>\n",
       "      <td>2.780619</td>\n",
       "      <td>NaN</td>\n",
       "      <td>31.540001</td>\n",
       "      <td>17.288168</td>\n",
       "    </tr>\n",
       "    <tr>\n",
       "      <th>...</th>\n",
       "      <td>...</td>\n",
       "      <td>...</td>\n",
       "      <td>...</td>\n",
       "      <td>...</td>\n",
       "      <td>...</td>\n",
       "      <td>...</td>\n",
       "      <td>...</td>\n",
       "      <td>...</td>\n",
       "      <td>...</td>\n",
       "      <td>...</td>\n",
       "      <td>...</td>\n",
       "    </tr>\n",
       "    <tr>\n",
       "      <th>5575</th>\n",
       "      <td>2004-08-12</td>\n",
       "      <td>NaN</td>\n",
       "      <td>NaN</td>\n",
       "      <td>NaN</td>\n",
       "      <td>17.084667</td>\n",
       "      <td>17.307444</td>\n",
       "      <td>NaN</td>\n",
       "      <td>0.771501</td>\n",
       "      <td>NaN</td>\n",
       "      <td>21.430643</td>\n",
       "      <td>0.464375</td>\n",
       "    </tr>\n",
       "    <tr>\n",
       "      <th>5576</th>\n",
       "      <td>2004-08-13</td>\n",
       "      <td>NaN</td>\n",
       "      <td>NaN</td>\n",
       "      <td>NaN</td>\n",
       "      <td>17.173656</td>\n",
       "      <td>17.302919</td>\n",
       "      <td>NaN</td>\n",
       "      <td>0.803647</td>\n",
       "      <td>NaN</td>\n",
       "      <td>21.720449</td>\n",
       "      <td>0.471562</td>\n",
       "    </tr>\n",
       "    <tr>\n",
       "      <th>5577</th>\n",
       "      <td>2004-08-16</td>\n",
       "      <td>NaN</td>\n",
       "      <td>NaN</td>\n",
       "      <td>NaN</td>\n",
       "      <td>17.218140</td>\n",
       "      <td>17.483864</td>\n",
       "      <td>NaN</td>\n",
       "      <td>0.795994</td>\n",
       "      <td>NaN</td>\n",
       "      <td>22.419979</td>\n",
       "      <td>0.470645</td>\n",
       "    </tr>\n",
       "    <tr>\n",
       "      <th>5578</th>\n",
       "      <td>2004-08-17</td>\n",
       "      <td>NaN</td>\n",
       "      <td>NaN</td>\n",
       "      <td>NaN</td>\n",
       "      <td>17.192726</td>\n",
       "      <td>17.664818</td>\n",
       "      <td>NaN</td>\n",
       "      <td>0.839620</td>\n",
       "      <td>NaN</td>\n",
       "      <td>22.370014</td>\n",
       "      <td>0.472021</td>\n",
       "    </tr>\n",
       "    <tr>\n",
       "      <th>5579</th>\n",
       "      <td>2004-08-18</td>\n",
       "      <td>NaN</td>\n",
       "      <td>NaN</td>\n",
       "      <td>NaN</td>\n",
       "      <td>17.453314</td>\n",
       "      <td>17.682905</td>\n",
       "      <td>NaN</td>\n",
       "      <td>0.895493</td>\n",
       "      <td>NaN</td>\n",
       "      <td>22.744764</td>\n",
       "      <td>0.485324</td>\n",
       "    </tr>\n",
       "  </tbody>\n",
       "</table>\n",
       "<p>5580 rows × 11 columns</p>\n",
       "</div>"
      ],
      "text/plain": [
       "            Date         FB        GOOG  PYPL       MSFT       INTU  ANET  \\\n",
       "0     2012-05-18  38.230000  299.078979   NaN  23.954281  49.742241   NaN   \n",
       "1     2012-05-21  34.029999  305.908386   NaN  24.347101  50.417526   NaN   \n",
       "2     2012-05-22  31.000000  299.278229   NaN  24.355293  51.092804   NaN   \n",
       "3     2012-05-23  32.000000  303.592072   NaN  23.823343  51.530819   NaN   \n",
       "4     2012-05-24  33.029999  300.702881   NaN  23.790600  51.457806   NaN   \n",
       "...          ...        ...         ...   ...        ...        ...   ...   \n",
       "5575  2004-08-12        NaN         NaN   NaN  17.084667  17.307444   NaN   \n",
       "5576  2004-08-13        NaN         NaN   NaN  17.173656  17.302919   NaN   \n",
       "5577  2004-08-16        NaN         NaN   NaN  17.218140  17.483864   NaN   \n",
       "5578  2004-08-17        NaN         NaN   NaN  17.192726  17.664818   NaN   \n",
       "5579  2004-08-18        NaN         NaN   NaN  17.453314  17.682905   NaN   \n",
       "\n",
       "          NVDA  DOCU       ADBE       AAPL  \n",
       "0     2.773731   NaN  31.309999  16.219666  \n",
       "1     2.821950   NaN  32.009998  17.164627  \n",
       "2     2.787507   NaN  32.009998  17.032822  \n",
       "3     2.856391   NaN  32.180000  17.448421  \n",
       "4     2.780619   NaN  31.540001  17.288168  \n",
       "...        ...   ...        ...        ...  \n",
       "5575  0.771501   NaN  21.430643   0.464375  \n",
       "5576  0.803647   NaN  21.720449   0.471562  \n",
       "5577  0.795994   NaN  22.419979   0.470645  \n",
       "5578  0.839620   NaN  22.370014   0.472021  \n",
       "5579  0.895493   NaN  22.744764   0.485324  \n",
       "\n",
       "[5580 rows x 11 columns]"
      ]
     },
     "execution_count": 92,
     "metadata": {},
     "output_type": "execute_result"
    }
   ],
   "source": [
    "# view dataframe\n",
    "HWportfolio1"
   ]
  },
  {
   "cell_type": "code",
   "execution_count": 93,
   "id": "1b83668e",
   "metadata": {
    "scrolled": false
   },
   "outputs": [],
   "source": [
    "# redefine mu & S\n",
    "from pypfopt.expected_returns import mean_historical_return\n",
    "from pypfopt.risk_models import CovarianceShrinkage\n",
    "\n",
    "mu = mean_historical_return(portfolio)\n",
    "S = CovarianceShrinkage(portfolio).ledoit_wolf()"
   ]
  },
  {
   "cell_type": "code",
   "execution_count": 94,
   "id": "0552ca7f",
   "metadata": {},
   "outputs": [],
   "source": [
    "# import and setup effcient frontier\n",
    "from pypfopt.efficient_frontier import EfficientFrontier\n",
    "\n",
    "ef = EfficientFrontier(mu, S)\n",
    "weights = ef.max_sharpe()"
   ]
  },
  {
   "cell_type": "code",
   "execution_count": 98,
   "id": "9846be75",
   "metadata": {},
   "outputs": [
    {
     "name": "stdout",
     "output_type": "stream",
     "text": [
      "{'FB': 0.26288, 'GOOG': 0.0, 'PYPL': 0.03381, 'MSFT': 0.0, 'INTU': 0.0, 'ANET': 0.568, 'NVDA': 0.0, 'DOCU': 0.13532, 'ADBE': 0.0, 'AAPL': 0.0}\n"
     ]
    }
   ],
   "source": [
    "# weighted positions of stocks in portfolio\n",
    "cleaned_weights1 = ef.clean_weights()\n",
    "print(dict(cleaned_weights1))"
   ]
  },
  {
   "cell_type": "code",
   "execution_count": 100,
   "id": "8300ce0e",
   "metadata": {
    "scrolled": true
   },
   "outputs": [
    {
     "name": "stdout",
     "output_type": "stream",
     "text": [
      "Expected annual return: 9.3%\n",
      "Annual volatility: 20.1%\n",
      "Sharpe Ratio: 0.36\n"
     ]
    },
    {
     "data": {
      "text/plain": [
       "(0.09271477165793861, 0.20143747254400182, 0.3609793686328886)"
      ]
     },
     "execution_count": 100,
     "metadata": {},
     "output_type": "execute_result"
    }
   ],
   "source": [
    "# performance of the porfolio given its efficient weights\n",
    "ef.portfolio_performance(verbose=True)"
   ]
  },
  {
   "cell_type": "code",
   "execution_count": 102,
   "id": "9f215a8e",
   "metadata": {},
   "outputs": [
    {
     "name": "stdout",
     "output_type": "stream",
     "text": [
      "Discrete Allocation:  {'ANET': 48, 'FB': 14, 'DOCU': 14, 'PYPL': 4}\n",
      "Funds remaining : $32.87\n"
     ]
    }
   ],
   "source": [
    "# given weights, capital of $10,000, how many shares of each stock we should purchase at the current ask, and how much capital remaining on hand. \n",
    "from pypfopt.discrete_allocation import DiscreteAllocation , get_latest_prices\n",
    "\n",
    "latest_prices = get_latest_prices(portfolio)\n",
    "\n",
    "da = DiscreteAllocation(weights, latest_prices, total_portfolio_value = 10000)\n",
    "\n",
    "allocation, leftover = da.greedy_portfolio()\n",
    "\n",
    "print(\"Discrete Allocation: \", allocation)\n",
    "print(\"Funds remaining : ${:.2f}\".format(leftover))"
   ]
  },
  {
   "cell_type": "markdown",
   "id": "d80daf1d",
   "metadata": {},
   "source": [
    "## end. "
   ]
  },
  {
   "cell_type": "code",
   "execution_count": null,
   "id": "3f033c23",
   "metadata": {},
   "outputs": [],
   "source": []
  }
 ],
 "metadata": {
  "kernelspec": {
   "display_name": "Python 3 (ipykernel)",
   "language": "python",
   "name": "python3"
  },
  "language_info": {
   "codemirror_mode": {
    "name": "ipython",
    "version": 3
   },
   "file_extension": ".py",
   "mimetype": "text/x-python",
   "name": "python",
   "nbconvert_exporter": "python",
   "pygments_lexer": "ipython3",
   "version": "3.9.7"
  }
 },
 "nbformat": 4,
 "nbformat_minor": 5
}
